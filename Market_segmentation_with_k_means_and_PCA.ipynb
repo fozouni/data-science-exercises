{
  "nbformat": 4,
  "nbformat_minor": 0,
  "metadata": {
    "kernelspec": {
      "display_name": "Python 3",
      "language": "python",
      "name": "python3"
    },
    "language_info": {
      "codemirror_mode": {
        "name": "ipython",
        "version": 3
      },
      "file_extension": ".py",
      "mimetype": "text/x-python",
      "name": "python",
      "nbconvert_exporter": "python",
      "pygments_lexer": "ipython3",
      "version": "3.8.5"
    },
    "colab": {
      "name": "Market segmentation with k-means and PCA.ipynb",
      "provenance": [],
      "include_colab_link": true
    }
  },
  "cells": [
    {
      "cell_type": "markdown",
      "metadata": {
        "id": "view-in-github",
        "colab_type": "text"
      },
      "source": [
        "<a href=\"https://colab.research.google.com/github/fozouni/data-science-exercises/blob/main/Market_segmentation_with_k_means_and_PCA.ipynb\" target=\"_parent\"><img src=\"https://colab.research.google.com/assets/colab-badge.svg\" alt=\"Open In Colab\"/></a>"
      ]
    },
    {
      "cell_type": "code",
      "metadata": {
        "id": "QqYtPLwD1MgZ"
      },
      "source": [
        "import pandas as pd\n",
        "import numpy as np\n",
        "import matplotlib.pyplot as plt\n",
        "import seaborn as sns\n",
        "\n",
        "from sklearn.cluster import KMeans\n",
        "from sklearn.metrics import silhouette_score\n",
        "from sklearn.preprocessing import StandardScaler\n",
        "from sklearn.decomposition import PCA\n",
        "from mpl_toolkits.mplot3d import Axes3D"
      ],
      "execution_count": 1,
      "outputs": []
    },
    {
      "cell_type": "code",
      "metadata": {
        "colab": {
          "base_uri": "https://localhost:8080/",
          "height": 235
        },
        "id": "BSO5874u1Mgk",
        "outputId": "720804e9-9463-4e76-cb7f-9e0437817997"
      },
      "source": [
        "df = pd.read_csv('https://github.com/fozouni/data-science-exercises/raw/main/Mall_Customers.csv')\n",
        "\n",
        "df.head(6)"
      ],
      "execution_count": 2,
      "outputs": [
        {
          "output_type": "execute_result",
          "data": {
            "text/html": [
              "<div>\n",
              "<style scoped>\n",
              "    .dataframe tbody tr th:only-of-type {\n",
              "        vertical-align: middle;\n",
              "    }\n",
              "\n",
              "    .dataframe tbody tr th {\n",
              "        vertical-align: top;\n",
              "    }\n",
              "\n",
              "    .dataframe thead th {\n",
              "        text-align: right;\n",
              "    }\n",
              "</style>\n",
              "<table border=\"1\" class=\"dataframe\">\n",
              "  <thead>\n",
              "    <tr style=\"text-align: right;\">\n",
              "      <th></th>\n",
              "      <th>CustomerID</th>\n",
              "      <th>Gender</th>\n",
              "      <th>Age</th>\n",
              "      <th>Annual Income (k$)</th>\n",
              "      <th>Spending Score (1-100)</th>\n",
              "    </tr>\n",
              "  </thead>\n",
              "  <tbody>\n",
              "    <tr>\n",
              "      <th>0</th>\n",
              "      <td>1</td>\n",
              "      <td>Male</td>\n",
              "      <td>19</td>\n",
              "      <td>15</td>\n",
              "      <td>39</td>\n",
              "    </tr>\n",
              "    <tr>\n",
              "      <th>1</th>\n",
              "      <td>2</td>\n",
              "      <td>Male</td>\n",
              "      <td>21</td>\n",
              "      <td>15</td>\n",
              "      <td>81</td>\n",
              "    </tr>\n",
              "    <tr>\n",
              "      <th>2</th>\n",
              "      <td>3</td>\n",
              "      <td>Female</td>\n",
              "      <td>20</td>\n",
              "      <td>16</td>\n",
              "      <td>6</td>\n",
              "    </tr>\n",
              "    <tr>\n",
              "      <th>3</th>\n",
              "      <td>4</td>\n",
              "      <td>Female</td>\n",
              "      <td>23</td>\n",
              "      <td>16</td>\n",
              "      <td>77</td>\n",
              "    </tr>\n",
              "    <tr>\n",
              "      <th>4</th>\n",
              "      <td>5</td>\n",
              "      <td>Female</td>\n",
              "      <td>31</td>\n",
              "      <td>17</td>\n",
              "      <td>40</td>\n",
              "    </tr>\n",
              "    <tr>\n",
              "      <th>5</th>\n",
              "      <td>6</td>\n",
              "      <td>Female</td>\n",
              "      <td>22</td>\n",
              "      <td>17</td>\n",
              "      <td>76</td>\n",
              "    </tr>\n",
              "  </tbody>\n",
              "</table>\n",
              "</div>"
            ],
            "text/plain": [
              "   CustomerID  Gender  Age  Annual Income (k$)  Spending Score (1-100)\n",
              "0           1    Male   19                  15                      39\n",
              "1           2    Male   21                  15                      81\n",
              "2           3  Female   20                  16                       6\n",
              "3           4  Female   23                  16                      77\n",
              "4           5  Female   31                  17                      40\n",
              "5           6  Female   22                  17                      76"
            ]
          },
          "metadata": {
            "tags": []
          },
          "execution_count": 2
        }
      ]
    },
    {
      "cell_type": "code",
      "metadata": {
        "id": "0uuKX0OS1Mgo",
        "colab": {
          "base_uri": "https://localhost:8080/",
          "height": 204
        },
        "outputId": "6e9de374-44d0-4914-a45f-f577e947ebf0"
      },
      "source": [
        "col_names = [ 'Annual Income (k$)', 'Age','Spending Score (1-100)']\n",
        "\n",
        "features = df[col_names]\n",
        "\n",
        "features.head()"
      ],
      "execution_count": 3,
      "outputs": [
        {
          "output_type": "execute_result",
          "data": {
            "text/html": [
              "<div>\n",
              "<style scoped>\n",
              "    .dataframe tbody tr th:only-of-type {\n",
              "        vertical-align: middle;\n",
              "    }\n",
              "\n",
              "    .dataframe tbody tr th {\n",
              "        vertical-align: top;\n",
              "    }\n",
              "\n",
              "    .dataframe thead th {\n",
              "        text-align: right;\n",
              "    }\n",
              "</style>\n",
              "<table border=\"1\" class=\"dataframe\">\n",
              "  <thead>\n",
              "    <tr style=\"text-align: right;\">\n",
              "      <th></th>\n",
              "      <th>Annual Income (k$)</th>\n",
              "      <th>Age</th>\n",
              "      <th>Spending Score (1-100)</th>\n",
              "    </tr>\n",
              "  </thead>\n",
              "  <tbody>\n",
              "    <tr>\n",
              "      <th>0</th>\n",
              "      <td>15</td>\n",
              "      <td>19</td>\n",
              "      <td>39</td>\n",
              "    </tr>\n",
              "    <tr>\n",
              "      <th>1</th>\n",
              "      <td>15</td>\n",
              "      <td>21</td>\n",
              "      <td>81</td>\n",
              "    </tr>\n",
              "    <tr>\n",
              "      <th>2</th>\n",
              "      <td>16</td>\n",
              "      <td>20</td>\n",
              "      <td>6</td>\n",
              "    </tr>\n",
              "    <tr>\n",
              "      <th>3</th>\n",
              "      <td>16</td>\n",
              "      <td>23</td>\n",
              "      <td>77</td>\n",
              "    </tr>\n",
              "    <tr>\n",
              "      <th>4</th>\n",
              "      <td>17</td>\n",
              "      <td>31</td>\n",
              "      <td>40</td>\n",
              "    </tr>\n",
              "  </tbody>\n",
              "</table>\n",
              "</div>"
            ],
            "text/plain": [
              "   Annual Income (k$)  Age  Spending Score (1-100)\n",
              "0                  15   19                      39\n",
              "1                  15   21                      81\n",
              "2                  16   20                       6\n",
              "3                  16   23                      77\n",
              "4                  17   31                      40"
            ]
          },
          "metadata": {
            "tags": []
          },
          "execution_count": 3
        }
      ]
    },
    {
      "cell_type": "code",
      "metadata": {
        "id": "eo5MvwvC1Mgq",
        "colab": {
          "base_uri": "https://localhost:8080/"
        },
        "outputId": "1efdcaa2-654d-469b-d6cb-8b793daa5280"
      },
      "source": [
        "scaler = StandardScaler().fit(features)\n",
        "\n",
        "features = scaler.transform(features)\n",
        "\n",
        "features"
      ],
      "execution_count": 4,
      "outputs": [
        {
          "output_type": "execute_result",
          "data": {
            "text/plain": [
              "array([[-1.73899919, -1.42456879, -0.43480148],\n",
              "       [-1.73899919, -1.28103541,  1.19570407],\n",
              "       [-1.70082976, -1.3528021 , -1.71591298],\n",
              "       [-1.70082976, -1.13750203,  1.04041783],\n",
              "       [-1.66266033, -0.56336851, -0.39597992],\n",
              "       [-1.66266033, -1.20926872,  1.00159627],\n",
              "       [-1.62449091, -0.27630176, -1.71591298],\n",
              "       [-1.62449091, -1.13750203,  1.70038436],\n",
              "       [-1.58632148,  1.80493225, -1.83237767],\n",
              "       [-1.58632148, -0.6351352 ,  0.84631002],\n",
              "       [-1.58632148,  2.02023231, -1.4053405 ],\n",
              "       [-1.58632148, -0.27630176,  1.89449216],\n",
              "       [-1.54815205,  1.37433211, -1.36651894],\n",
              "       [-1.54815205, -1.06573534,  1.04041783],\n",
              "       [-1.54815205, -0.13276838, -1.44416206],\n",
              "       [-1.54815205, -1.20926872,  1.11806095],\n",
              "       [-1.50998262, -0.27630176, -0.59008772],\n",
              "       [-1.50998262, -1.3528021 ,  0.61338066],\n",
              "       [-1.43364376,  0.94373197, -0.82301709],\n",
              "       [-1.43364376, -0.27630176,  1.8556706 ],\n",
              "       [-1.39547433, -0.27630176, -0.59008772],\n",
              "       [-1.39547433, -0.99396865,  0.88513158],\n",
              "       [-1.3573049 ,  0.51313183, -1.75473454],\n",
              "       [-1.3573049 , -0.56336851,  0.88513158],\n",
              "       [-1.24279661,  1.08726535, -1.4053405 ],\n",
              "       [-1.24279661, -0.70690189,  1.23452563],\n",
              "       [-1.24279661,  0.44136514, -0.7065524 ],\n",
              "       [-1.24279661, -0.27630176,  0.41927286],\n",
              "       [-1.20462718,  0.08253169, -0.74537397],\n",
              "       [-1.20462718, -1.13750203,  1.42863343],\n",
              "       [-1.16645776,  1.51786549, -1.7935561 ],\n",
              "       [-1.16645776, -1.28103541,  0.88513158],\n",
              "       [-1.05194947,  1.01549866, -1.7935561 ],\n",
              "       [-1.05194947, -1.49633548,  1.62274124],\n",
              "       [-1.05194947,  0.7284319 , -1.4053405 ],\n",
              "       [-1.05194947, -1.28103541,  1.19570407],\n",
              "       [-1.01378004,  0.22606507, -1.28887582],\n",
              "       [-1.01378004, -0.6351352 ,  0.88513158],\n",
              "       [-0.89927175, -0.20453507, -0.93948177],\n",
              "       [-0.89927175, -1.3528021 ,  0.96277471],\n",
              "       [-0.86110232,  1.87669894, -0.59008772],\n",
              "       [-0.86110232, -1.06573534,  1.62274124],\n",
              "       [-0.82293289,  0.65666521, -0.55126616],\n",
              "       [-0.82293289, -0.56336851,  0.41927286],\n",
              "       [-0.82293289,  0.7284319 , -0.86183865],\n",
              "       [-0.82293289, -1.06573534,  0.5745591 ],\n",
              "       [-0.78476346,  0.80019859,  0.18634349],\n",
              "       [-0.78476346, -0.85043527, -0.12422899],\n",
              "       [-0.78476346, -0.70690189, -0.3183368 ],\n",
              "       [-0.78476346, -0.56336851, -0.3183368 ],\n",
              "       [-0.70842461,  0.7284319 ,  0.06987881],\n",
              "       [-0.70842461, -0.41983513,  0.38045129],\n",
              "       [-0.67025518, -0.56336851,  0.14752193],\n",
              "       [-0.67025518,  1.4460988 ,  0.38045129],\n",
              "       [-0.67025518,  0.80019859, -0.20187212],\n",
              "       [-0.67025518,  0.58489852, -0.35715836],\n",
              "       [-0.63208575,  0.87196528, -0.00776431],\n",
              "       [-0.63208575,  2.16376569, -0.16305055],\n",
              "       [-0.55574689, -0.85043527,  0.03105725],\n",
              "       [-0.55574689,  1.01549866, -0.16305055],\n",
              "       [-0.55574689,  2.23553238,  0.22516505],\n",
              "       [-0.55574689, -1.42456879,  0.18634349],\n",
              "       [-0.51757746,  2.02023231,  0.06987881],\n",
              "       [-0.51757746,  1.08726535,  0.34162973],\n",
              "       [-0.47940803,  1.73316556,  0.03105725],\n",
              "       [-0.47940803, -1.49633548,  0.34162973],\n",
              "       [-0.47940803,  0.29783176, -0.00776431],\n",
              "       [-0.47940803,  2.091999  , -0.08540743],\n",
              "       [-0.47940803, -1.42456879,  0.34162973],\n",
              "       [-0.47940803, -0.49160182, -0.12422899],\n",
              "       [-0.4412386 ,  2.23553238,  0.18634349],\n",
              "       [-0.4412386 ,  0.58489852, -0.3183368 ],\n",
              "       [-0.40306917,  1.51786549, -0.04658587],\n",
              "       [-0.40306917,  1.51786549,  0.22516505],\n",
              "       [-0.25039146,  1.4460988 , -0.12422899],\n",
              "       [-0.25039146, -0.92220196,  0.14752193],\n",
              "       [-0.25039146,  0.44136514,  0.10870037],\n",
              "       [-0.25039146,  0.08253169, -0.08540743],\n",
              "       [-0.25039146, -1.13750203,  0.06987881],\n",
              "       [-0.25039146,  0.7284319 , -0.3183368 ],\n",
              "       [-0.25039146,  1.30256542,  0.03105725],\n",
              "       [-0.25039146, -0.06100169,  0.18634349],\n",
              "       [-0.25039146,  2.02023231, -0.35715836],\n",
              "       [-0.25039146,  0.51313183, -0.24069368],\n",
              "       [-0.25039146, -1.28103541,  0.26398661],\n",
              "       [-0.25039146,  0.65666521, -0.16305055],\n",
              "       [-0.13588317,  1.15903204,  0.30280817],\n",
              "       [-0.13588317, -1.20926872,  0.18634349],\n",
              "       [-0.09771374, -0.34806844,  0.38045129],\n",
              "       [-0.09771374,  0.80019859, -0.16305055],\n",
              "       [-0.05954431,  2.091999  ,  0.18634349],\n",
              "       [-0.05954431, -1.49633548, -0.35715836],\n",
              "       [-0.02137488,  0.65666521, -0.04658587],\n",
              "       [-0.02137488,  0.08253169, -0.39597992],\n",
              "       [-0.02137488, -0.49160182, -0.3183368 ],\n",
              "       [-0.02137488, -1.06573534,  0.06987881],\n",
              "       [-0.02137488,  0.58489852, -0.12422899],\n",
              "       [-0.02137488, -0.85043527, -0.00776431],\n",
              "       [ 0.01679455,  0.65666521, -0.3183368 ],\n",
              "       [ 0.01679455, -1.3528021 , -0.04658587],\n",
              "       [ 0.05496398, -1.13750203, -0.35715836],\n",
              "       [ 0.05496398,  0.7284319 , -0.08540743],\n",
              "       [ 0.05496398,  2.02023231,  0.34162973],\n",
              "       [ 0.05496398, -0.92220196,  0.18634349],\n",
              "       [ 0.05496398,  0.7284319 ,  0.22516505],\n",
              "       [ 0.05496398, -1.28103541, -0.3183368 ],\n",
              "       [ 0.09313341,  1.94846562, -0.00776431],\n",
              "       [ 0.09313341,  1.08726535, -0.16305055],\n",
              "       [ 0.09313341,  2.091999  , -0.27951524],\n",
              "       [ 0.09313341,  1.94846562, -0.08540743],\n",
              "       [ 0.09313341,  1.87669894,  0.06987881],\n",
              "       [ 0.09313341, -1.42456879,  0.14752193],\n",
              "       [ 0.13130284, -0.06100169, -0.3183368 ],\n",
              "       [ 0.13130284, -1.42456879, -0.16305055],\n",
              "       [ 0.16947227, -1.49633548, -0.08540743],\n",
              "       [ 0.16947227, -1.42456879, -0.00776431],\n",
              "       [ 0.16947227,  1.73316556, -0.27951524],\n",
              "       [ 0.16947227,  0.7284319 ,  0.34162973],\n",
              "       [ 0.24581112,  0.87196528, -0.27951524],\n",
              "       [ 0.24581112,  0.80019859,  0.26398661],\n",
              "       [ 0.24581112, -0.85043527,  0.22516505],\n",
              "       [ 0.24581112, -0.06100169, -0.39597992],\n",
              "       [ 0.32214998,  0.08253169,  0.30280817],\n",
              "       [ 0.32214998,  0.010765  ,  1.58391968],\n",
              "       [ 0.36031941, -1.13750203, -0.82301709],\n",
              "       [ 0.36031941, -0.56336851,  1.04041783],\n",
              "       [ 0.39848884,  0.29783176, -0.59008772],\n",
              "       [ 0.39848884,  0.08253169,  1.73920592],\n",
              "       [ 0.39848884,  1.4460988 , -1.52180518],\n",
              "       [ 0.39848884, -0.06100169,  0.96277471],\n",
              "       [ 0.39848884,  0.58489852, -1.5994483 ],\n",
              "       [ 0.39848884,  0.010765  ,  0.96277471],\n",
              "       [ 0.43665827, -0.99396865, -0.62890928],\n",
              "       [ 0.43665827, -0.56336851,  0.80748846],\n",
              "       [ 0.4748277 , -1.3528021 , -1.75473454],\n",
              "       [ 0.4748277 , -0.70690189,  1.46745499],\n",
              "       [ 0.4748277 ,  0.36959845, -1.67709142],\n",
              "       [ 0.4748277 , -0.49160182,  0.88513158],\n",
              "       [ 0.51299713, -1.42456879, -1.56062674],\n",
              "       [ 0.51299713, -0.27630176,  0.84631002],\n",
              "       [ 0.55116656,  1.30256542, -1.75473454],\n",
              "       [ 0.55116656, -0.49160182,  1.6615628 ],\n",
              "       [ 0.58933599, -0.77866858, -0.39597992],\n",
              "       [ 0.58933599, -0.49160182,  1.42863343],\n",
              "       [ 0.62750542, -0.99396865, -1.48298362],\n",
              "       [ 0.62750542, -0.77866858,  1.81684904],\n",
              "       [ 0.62750542,  0.65666521, -0.55126616],\n",
              "       [ 0.62750542, -0.49160182,  0.92395314],\n",
              "       [ 0.66567484, -0.34806844, -1.09476801],\n",
              "       [ 0.66567484, -0.34806844,  1.54509812],\n",
              "       [ 0.66567484,  0.29783176, -1.28887582],\n",
              "       [ 0.66567484,  0.010765  ,  1.46745499],\n",
              "       [ 0.66567484,  0.36959845, -1.17241113],\n",
              "       [ 0.66567484, -0.06100169,  1.00159627],\n",
              "       [ 0.66567484,  0.58489852, -1.32769738],\n",
              "       [ 0.66567484, -0.85043527,  1.50627656],\n",
              "       [ 0.66567484, -0.13276838, -1.91002079],\n",
              "       [ 0.66567484, -0.6351352 ,  1.07923939],\n",
              "       [ 0.66567484, -0.34806844, -1.91002079],\n",
              "       [ 0.66567484, -0.6351352 ,  0.88513158],\n",
              "       [ 0.70384427,  1.23079873, -0.59008772],\n",
              "       [ 0.70384427, -0.70690189,  1.27334719],\n",
              "       [ 0.78018313, -1.42456879, -1.75473454],\n",
              "       [ 0.78018313, -0.56336851,  1.6615628 ],\n",
              "       [ 0.93286085,  0.80019859, -0.93948177],\n",
              "       [ 0.93286085, -0.20453507,  0.96277471],\n",
              "       [ 0.97103028,  0.22606507, -1.17241113],\n",
              "       [ 0.97103028, -0.41983513,  1.73920592],\n",
              "       [ 1.00919971, -0.20453507, -0.90066021],\n",
              "       [ 1.00919971, -0.49160182,  0.49691598],\n",
              "       [ 1.00919971,  0.08253169, -1.44416206],\n",
              "       [ 1.00919971, -0.77866858,  0.96277471],\n",
              "       [ 1.00919971, -0.20453507, -1.56062674],\n",
              "       [ 1.00919971, -0.20453507,  1.62274124],\n",
              "       [ 1.04736914,  0.94373197, -1.44416206],\n",
              "       [ 1.04736914, -0.6351352 ,  1.38981187],\n",
              "       [ 1.04736914,  1.37433211, -1.36651894],\n",
              "       [ 1.04736914, -0.85043527,  0.72984534],\n",
              "       [ 1.23821628,  1.4460988 , -1.4053405 ],\n",
              "       [ 1.23821628, -0.27630176,  1.54509812],\n",
              "       [ 1.390894  , -0.13276838, -0.7065524 ],\n",
              "       [ 1.390894  , -0.49160182,  1.38981187],\n",
              "       [ 1.42906343,  0.51313183, -1.36651894],\n",
              "       [ 1.42906343, -0.70690189,  1.46745499],\n",
              "       [ 1.46723286,  0.15429838, -0.43480148],\n",
              "       [ 1.46723286, -0.6351352 ,  1.81684904],\n",
              "       [ 1.54357172,  1.08726535, -1.01712489],\n",
              "       [ 1.54357172, -0.77866858,  0.69102378],\n",
              "       [ 1.61991057,  0.15429838, -1.28887582],\n",
              "       [ 1.61991057, -0.20453507,  1.35099031],\n",
              "       [ 1.61991057, -0.34806844, -1.05594645],\n",
              "       [ 1.61991057, -0.49160182,  0.72984534],\n",
              "       [ 2.00160487, -0.41983513, -1.63826986],\n",
              "       [ 2.00160487, -0.06100169,  1.58391968],\n",
              "       [ 2.26879087,  0.58489852, -1.32769738],\n",
              "       [ 2.26879087, -0.27630176,  1.11806095],\n",
              "       [ 2.49780745,  0.44136514, -0.86183865],\n",
              "       [ 2.49780745, -0.49160182,  0.92395314],\n",
              "       [ 2.91767117, -0.49160182, -1.25005425],\n",
              "       [ 2.91767117, -0.6351352 ,  1.27334719]])"
            ]
          },
          "metadata": {
            "tags": []
          },
          "execution_count": 4
        }
      ]
    },
    {
      "cell_type": "code",
      "metadata": {
        "id": "8jdlL-wk1Mgr",
        "colab": {
          "base_uri": "https://localhost:8080/",
          "height": 204
        },
        "outputId": "57a9f236-6ac1-47a9-839d-1b1135ff4113"
      },
      "source": [
        "scaled_features = pd.DataFrame(features, columns = col_names)\n",
        "\n",
        "scaled_features.head()"
      ],
      "execution_count": 5,
      "outputs": [
        {
          "output_type": "execute_result",
          "data": {
            "text/html": [
              "<div>\n",
              "<style scoped>\n",
              "    .dataframe tbody tr th:only-of-type {\n",
              "        vertical-align: middle;\n",
              "    }\n",
              "\n",
              "    .dataframe tbody tr th {\n",
              "        vertical-align: top;\n",
              "    }\n",
              "\n",
              "    .dataframe thead th {\n",
              "        text-align: right;\n",
              "    }\n",
              "</style>\n",
              "<table border=\"1\" class=\"dataframe\">\n",
              "  <thead>\n",
              "    <tr style=\"text-align: right;\">\n",
              "      <th></th>\n",
              "      <th>Annual Income (k$)</th>\n",
              "      <th>Age</th>\n",
              "      <th>Spending Score (1-100)</th>\n",
              "    </tr>\n",
              "  </thead>\n",
              "  <tbody>\n",
              "    <tr>\n",
              "      <th>0</th>\n",
              "      <td>-1.738999</td>\n",
              "      <td>-1.424569</td>\n",
              "      <td>-0.434801</td>\n",
              "    </tr>\n",
              "    <tr>\n",
              "      <th>1</th>\n",
              "      <td>-1.738999</td>\n",
              "      <td>-1.281035</td>\n",
              "      <td>1.195704</td>\n",
              "    </tr>\n",
              "    <tr>\n",
              "      <th>2</th>\n",
              "      <td>-1.700830</td>\n",
              "      <td>-1.352802</td>\n",
              "      <td>-1.715913</td>\n",
              "    </tr>\n",
              "    <tr>\n",
              "      <th>3</th>\n",
              "      <td>-1.700830</td>\n",
              "      <td>-1.137502</td>\n",
              "      <td>1.040418</td>\n",
              "    </tr>\n",
              "    <tr>\n",
              "      <th>4</th>\n",
              "      <td>-1.662660</td>\n",
              "      <td>-0.563369</td>\n",
              "      <td>-0.395980</td>\n",
              "    </tr>\n",
              "  </tbody>\n",
              "</table>\n",
              "</div>"
            ],
            "text/plain": [
              "   Annual Income (k$)       Age  Spending Score (1-100)\n",
              "0           -1.738999 -1.424569               -0.434801\n",
              "1           -1.738999 -1.281035                1.195704\n",
              "2           -1.700830 -1.352802               -1.715913\n",
              "3           -1.700830 -1.137502                1.040418\n",
              "4           -1.662660 -0.563369               -0.395980"
            ]
          },
          "metadata": {
            "tags": []
          },
          "execution_count": 5
        }
      ]
    },
    {
      "cell_type": "code",
      "metadata": {
        "id": "3xgAX2tP1Mgs",
        "colab": {
          "base_uri": "https://localhost:8080/",
          "height": 204
        },
        "outputId": "ca15e85a-d407-439a-c7b1-ef1b467bed18"
      },
      "source": [
        "gender = df['Gender']\n",
        "\n",
        "newdf = scaled_features.join(gender)\n",
        "\n",
        "newdf.head()"
      ],
      "execution_count": 6,
      "outputs": [
        {
          "output_type": "execute_result",
          "data": {
            "text/html": [
              "<div>\n",
              "<style scoped>\n",
              "    .dataframe tbody tr th:only-of-type {\n",
              "        vertical-align: middle;\n",
              "    }\n",
              "\n",
              "    .dataframe tbody tr th {\n",
              "        vertical-align: top;\n",
              "    }\n",
              "\n",
              "    .dataframe thead th {\n",
              "        text-align: right;\n",
              "    }\n",
              "</style>\n",
              "<table border=\"1\" class=\"dataframe\">\n",
              "  <thead>\n",
              "    <tr style=\"text-align: right;\">\n",
              "      <th></th>\n",
              "      <th>Annual Income (k$)</th>\n",
              "      <th>Age</th>\n",
              "      <th>Spending Score (1-100)</th>\n",
              "      <th>Gender</th>\n",
              "    </tr>\n",
              "  </thead>\n",
              "  <tbody>\n",
              "    <tr>\n",
              "      <th>0</th>\n",
              "      <td>-1.738999</td>\n",
              "      <td>-1.424569</td>\n",
              "      <td>-0.434801</td>\n",
              "      <td>Male</td>\n",
              "    </tr>\n",
              "    <tr>\n",
              "      <th>1</th>\n",
              "      <td>-1.738999</td>\n",
              "      <td>-1.281035</td>\n",
              "      <td>1.195704</td>\n",
              "      <td>Male</td>\n",
              "    </tr>\n",
              "    <tr>\n",
              "      <th>2</th>\n",
              "      <td>-1.700830</td>\n",
              "      <td>-1.352802</td>\n",
              "      <td>-1.715913</td>\n",
              "      <td>Female</td>\n",
              "    </tr>\n",
              "    <tr>\n",
              "      <th>3</th>\n",
              "      <td>-1.700830</td>\n",
              "      <td>-1.137502</td>\n",
              "      <td>1.040418</td>\n",
              "      <td>Female</td>\n",
              "    </tr>\n",
              "    <tr>\n",
              "      <th>4</th>\n",
              "      <td>-1.662660</td>\n",
              "      <td>-0.563369</td>\n",
              "      <td>-0.395980</td>\n",
              "      <td>Female</td>\n",
              "    </tr>\n",
              "  </tbody>\n",
              "</table>\n",
              "</div>"
            ],
            "text/plain": [
              "   Annual Income (k$)       Age  Spending Score (1-100)  Gender\n",
              "0           -1.738999 -1.424569               -0.434801    Male\n",
              "1           -1.738999 -1.281035                1.195704    Male\n",
              "2           -1.700830 -1.352802               -1.715913  Female\n",
              "3           -1.700830 -1.137502                1.040418  Female\n",
              "4           -1.662660 -0.563369               -0.395980  Female"
            ]
          },
          "metadata": {
            "tags": []
          },
          "execution_count": 6
        }
      ]
    },
    {
      "cell_type": "code",
      "metadata": {
        "id": "AIHwIB0y1Mgt",
        "colab": {
          "base_uri": "https://localhost:8080/",
          "height": 204
        },
        "outputId": "458cb005-940d-456a-f7d1-c78118f103fd"
      },
      "source": [
        "newdf['Gender'] = newdf['Gender'].map({'Male' : 0, 'Female' : 1})\n",
        "\n",
        "newdf.head()"
      ],
      "execution_count": 7,
      "outputs": [
        {
          "output_type": "execute_result",
          "data": {
            "text/html": [
              "<div>\n",
              "<style scoped>\n",
              "    .dataframe tbody tr th:only-of-type {\n",
              "        vertical-align: middle;\n",
              "    }\n",
              "\n",
              "    .dataframe tbody tr th {\n",
              "        vertical-align: top;\n",
              "    }\n",
              "\n",
              "    .dataframe thead th {\n",
              "        text-align: right;\n",
              "    }\n",
              "</style>\n",
              "<table border=\"1\" class=\"dataframe\">\n",
              "  <thead>\n",
              "    <tr style=\"text-align: right;\">\n",
              "      <th></th>\n",
              "      <th>Annual Income (k$)</th>\n",
              "      <th>Age</th>\n",
              "      <th>Spending Score (1-100)</th>\n",
              "      <th>Gender</th>\n",
              "    </tr>\n",
              "  </thead>\n",
              "  <tbody>\n",
              "    <tr>\n",
              "      <th>0</th>\n",
              "      <td>-1.738999</td>\n",
              "      <td>-1.424569</td>\n",
              "      <td>-0.434801</td>\n",
              "      <td>0</td>\n",
              "    </tr>\n",
              "    <tr>\n",
              "      <th>1</th>\n",
              "      <td>-1.738999</td>\n",
              "      <td>-1.281035</td>\n",
              "      <td>1.195704</td>\n",
              "      <td>0</td>\n",
              "    </tr>\n",
              "    <tr>\n",
              "      <th>2</th>\n",
              "      <td>-1.700830</td>\n",
              "      <td>-1.352802</td>\n",
              "      <td>-1.715913</td>\n",
              "      <td>1</td>\n",
              "    </tr>\n",
              "    <tr>\n",
              "      <th>3</th>\n",
              "      <td>-1.700830</td>\n",
              "      <td>-1.137502</td>\n",
              "      <td>1.040418</td>\n",
              "      <td>1</td>\n",
              "    </tr>\n",
              "    <tr>\n",
              "      <th>4</th>\n",
              "      <td>-1.662660</td>\n",
              "      <td>-0.563369</td>\n",
              "      <td>-0.395980</td>\n",
              "      <td>1</td>\n",
              "    </tr>\n",
              "  </tbody>\n",
              "</table>\n",
              "</div>"
            ],
            "text/plain": [
              "   Annual Income (k$)       Age  Spending Score (1-100)  Gender\n",
              "0           -1.738999 -1.424569               -0.434801       0\n",
              "1           -1.738999 -1.281035                1.195704       0\n",
              "2           -1.700830 -1.352802               -1.715913       1\n",
              "3           -1.700830 -1.137502                1.040418       1\n",
              "4           -1.662660 -0.563369               -0.395980       1"
            ]
          },
          "metadata": {
            "tags": []
          },
          "execution_count": 7
        }
      ]
    },
    {
      "cell_type": "code",
      "metadata": {
        "id": "KB_d4vvt1Mgv",
        "colab": {
          "base_uri": "https://localhost:8080/"
        },
        "outputId": "b4420c2f-c240-4116-833b-e865dc9c286e"
      },
      "source": [
        "WCSS = []\n",
        "\n",
        "for cluster in range(1,10):\n",
        "    \n",
        "    kmeans = KMeans(cluster)\n",
        "    \n",
        "    kmeans.fit(newdf)\n",
        "    \n",
        "    WCSS.append(kmeans.inertia_)\n",
        "    \n",
        "print(pd.DataFrame(WCSS, columns = ['WCSS']))"
      ],
      "execution_count": 8,
      "outputs": [
        {
          "output_type": "stream",
          "text": [
            "         WCSS\n",
            "0  649.280000\n",
            "1  438.522412\n",
            "2  344.405429\n",
            "3  254.282907\n",
            "4  216.784902\n",
            "5  181.951436\n",
            "6  164.710598\n",
            "7  150.415233\n",
            "8  139.219744\n"
          ],
          "name": "stdout"
        }
      ]
    },
    {
      "cell_type": "code",
      "metadata": {
        "id": "xUtWDB-K1Mgy",
        "colab": {
          "base_uri": "https://localhost:8080/",
          "height": 405
        },
        "outputId": "62e529ce-1de2-4d05-e14b-ff8beb6e1778"
      },
      "source": [
        "frame = pd.DataFrame({'Cluster': range(1,10), 'WCSS': WCSS})\n",
        "\n",
        "plt.figure(figsize=(12,6))\n",
        "\n",
        "plt.plot(frame['Cluster'], frame['WCSS'], marker='o')\n",
        "\n",
        "plt.xlabel('Number of Clusters')\n",
        "plt.ylabel('WCSS')"
      ],
      "execution_count": 9,
      "outputs": [
        {
          "output_type": "execute_result",
          "data": {
            "text/plain": [
              "Text(0, 0.5, 'WCSS')"
            ]
          },
          "metadata": {
            "tags": []
          },
          "execution_count": 9
        },
        {
          "output_type": "display_data",
          "data": {
            "image/png": "[encoded data removed]",
            "text/plain": [
              "<Figure size 864x432 with 1 Axes>"
            ]
          },
          "metadata": {
            "tags": [],
            "needs_background": "light"
          }
        }
      ]
    },
    {
      "cell_type": "markdown",
      "metadata": {
        "id": "fTnDzDRT1Mg1"
      },
      "source": [
        "### silhouette_score: \n",
        "The best value is 1 and the worst value is -1. Values near 0 indicate\n",
        "overlapping clusters. Negative values generally indicate that a sample has\n",
        "been assigned to the wrong cluster, as a different cluster is more similar. The more close to one, the better in clustering. \n"
      ]
    },
    {
      "cell_type": "code",
      "metadata": {
        "id": "DmqpIbbk1Mg3",
        "colab": {
          "base_uri": "https://localhost:8080/"
        },
        "outputId": "8dc860a8-7332-400a-9f30-b882542e175e"
      },
      "source": [
        "kmeans = KMeans(4)\n",
        "kmeans.fit(newdf)\n",
        "\n",
        "print(silhouette_score(newdf, kmeans.labels_)), print(kmeans.labels_)"
      ],
      "execution_count": 11,
      "outputs": [
        {
          "output_type": "stream",
          "text": [
            "0.35027020434653977\n",
            "[2 2 2 2 2 2 0 2 0 2 0 2 0 2 0 2 2 2 0 2 2 2 0 2 0 2 0 2 0 2 0 2 0 2 0 2 0\n",
            " 2 0 2 0 2 0 2 0 2 0 2 2 2 0 2 2 0 0 0 0 0 2 0 0 2 0 0 0 2 0 0 2 2 0 0 0 0\n",
            " 0 2 0 0 2 0 0 2 0 0 2 0 0 2 2 0 0 2 0 0 2 2 0 2 0 2 2 0 0 2 0 2 0 0 0 0 0\n",
            " 2 3 2 2 2 0 0 0 0 2 3 1 1 3 1 3 1 0 1 3 1 3 1 3 1 3 1 3 1 3 1 3 1 3 1 3 1\n",
            " 3 1 3 1 3 1 3 1 3 1 3 1 0 1 3 1 3 1 3 1 3 1 3 1 3 1 3 1 3 1 3 1 3 1 3 1 3\n",
            " 1 3 1 3 1 3 1 3 1 3 1 3 1 3 1]\n"
          ],
          "name": "stdout"
        },
        {
          "output_type": "execute_result",
          "data": {
            "text/plain": [
              "(None, None)"
            ]
          },
          "metadata": {
            "tags": []
          },
          "execution_count": 11
        }
      ]
    },
    {
      "cell_type": "code",
      "metadata": {
        "id": "vDJgTsXk1Mg4",
        "colab": {
          "base_uri": "https://localhost:8080/",
          "height": 204
        },
        "outputId": "7b8f43c2-7429-49cd-ce48-9c8678e88636"
      },
      "source": [
        "df2 = df.copy()\n",
        "df2[\"Gender\"]= df2[\"Gender\"].map({'Male' : 0, 'Female' : 1})\n",
        "df2.head()"
      ],
      "execution_count": 12,
      "outputs": [
        {
          "output_type": "execute_result",
          "data": {
            "text/html": [
              "<div>\n",
              "<style scoped>\n",
              "    .dataframe tbody tr th:only-of-type {\n",
              "        vertical-align: middle;\n",
              "    }\n",
              "\n",
              "    .dataframe tbody tr th {\n",
              "        vertical-align: top;\n",
              "    }\n",
              "\n",
              "    .dataframe thead th {\n",
              "        text-align: right;\n",
              "    }\n",
              "</style>\n",
              "<table border=\"1\" class=\"dataframe\">\n",
              "  <thead>\n",
              "    <tr style=\"text-align: right;\">\n",
              "      <th></th>\n",
              "      <th>CustomerID</th>\n",
              "      <th>Gender</th>\n",
              "      <th>Age</th>\n",
              "      <th>Annual Income (k$)</th>\n",
              "      <th>Spending Score (1-100)</th>\n",
              "    </tr>\n",
              "  </thead>\n",
              "  <tbody>\n",
              "    <tr>\n",
              "      <th>0</th>\n",
              "      <td>1</td>\n",
              "      <td>0</td>\n",
              "      <td>19</td>\n",
              "      <td>15</td>\n",
              "      <td>39</td>\n",
              "    </tr>\n",
              "    <tr>\n",
              "      <th>1</th>\n",
              "      <td>2</td>\n",
              "      <td>0</td>\n",
              "      <td>21</td>\n",
              "      <td>15</td>\n",
              "      <td>81</td>\n",
              "    </tr>\n",
              "    <tr>\n",
              "      <th>2</th>\n",
              "      <td>3</td>\n",
              "      <td>1</td>\n",
              "      <td>20</td>\n",
              "      <td>16</td>\n",
              "      <td>6</td>\n",
              "    </tr>\n",
              "    <tr>\n",
              "      <th>3</th>\n",
              "      <td>4</td>\n",
              "      <td>1</td>\n",
              "      <td>23</td>\n",
              "      <td>16</td>\n",
              "      <td>77</td>\n",
              "    </tr>\n",
              "    <tr>\n",
              "      <th>4</th>\n",
              "      <td>5</td>\n",
              "      <td>1</td>\n",
              "      <td>31</td>\n",
              "      <td>17</td>\n",
              "      <td>40</td>\n",
              "    </tr>\n",
              "  </tbody>\n",
              "</table>\n",
              "</div>"
            ],
            "text/plain": [
              "   CustomerID  Gender  Age  Annual Income (k$)  Spending Score (1-100)\n",
              "0           1       0   19                  15                      39\n",
              "1           2       0   21                  15                      81\n",
              "2           3       1   20                  16                       6\n",
              "3           4       1   23                  16                      77\n",
              "4           5       1   31                  17                      40"
            ]
          },
          "metadata": {
            "tags": []
          },
          "execution_count": 12
        }
      ]
    },
    {
      "cell_type": "code",
      "metadata": {
        "id": "ysUDo0v61Mg5"
      },
      "source": [
        "clusters = kmeans.fit_predict(df2)"
      ],
      "execution_count": 13,
      "outputs": []
    },
    {
      "cell_type": "code",
      "metadata": {
        "id": "B3wlnQci1Mg5",
        "colab": {
          "base_uri": "https://localhost:8080/",
          "height": 204
        },
        "outputId": "e9cbb5fc-732f-4811-c920-afe99763268a"
      },
      "source": [
        "newdf['label'] = clusters\n",
        "newdf.head()"
      ],
      "execution_count": 14,
      "outputs": [
        {
          "output_type": "execute_result",
          "data": {
            "text/html": [
              "<div>\n",
              "<style scoped>\n",
              "    .dataframe tbody tr th:only-of-type {\n",
              "        vertical-align: middle;\n",
              "    }\n",
              "\n",
              "    .dataframe tbody tr th {\n",
              "        vertical-align: top;\n",
              "    }\n",
              "\n",
              "    .dataframe thead th {\n",
              "        text-align: right;\n",
              "    }\n",
              "</style>\n",
              "<table border=\"1\" class=\"dataframe\">\n",
              "  <thead>\n",
              "    <tr style=\"text-align: right;\">\n",
              "      <th></th>\n",
              "      <th>Annual Income (k$)</th>\n",
              "      <th>Age</th>\n",
              "      <th>Spending Score (1-100)</th>\n",
              "      <th>Gender</th>\n",
              "      <th>label</th>\n",
              "    </tr>\n",
              "  </thead>\n",
              "  <tbody>\n",
              "    <tr>\n",
              "      <th>0</th>\n",
              "      <td>-1.738999</td>\n",
              "      <td>-1.424569</td>\n",
              "      <td>-0.434801</td>\n",
              "      <td>0</td>\n",
              "      <td>2</td>\n",
              "    </tr>\n",
              "    <tr>\n",
              "      <th>1</th>\n",
              "      <td>-1.738999</td>\n",
              "      <td>-1.281035</td>\n",
              "      <td>1.195704</td>\n",
              "      <td>0</td>\n",
              "      <td>2</td>\n",
              "    </tr>\n",
              "    <tr>\n",
              "      <th>2</th>\n",
              "      <td>-1.700830</td>\n",
              "      <td>-1.352802</td>\n",
              "      <td>-1.715913</td>\n",
              "      <td>1</td>\n",
              "      <td>2</td>\n",
              "    </tr>\n",
              "    <tr>\n",
              "      <th>3</th>\n",
              "      <td>-1.700830</td>\n",
              "      <td>-1.137502</td>\n",
              "      <td>1.040418</td>\n",
              "      <td>1</td>\n",
              "      <td>2</td>\n",
              "    </tr>\n",
              "    <tr>\n",
              "      <th>4</th>\n",
              "      <td>-1.662660</td>\n",
              "      <td>-0.563369</td>\n",
              "      <td>-0.395980</td>\n",
              "      <td>1</td>\n",
              "      <td>2</td>\n",
              "    </tr>\n",
              "  </tbody>\n",
              "</table>\n",
              "</div>"
            ],
            "text/plain": [
              "   Annual Income (k$)       Age  Spending Score (1-100)  Gender  label\n",
              "0           -1.738999 -1.424569               -0.434801       0      2\n",
              "1           -1.738999 -1.281035                1.195704       0      2\n",
              "2           -1.700830 -1.352802               -1.715913       1      2\n",
              "3           -1.700830 -1.137502                1.040418       1      2\n",
              "4           -1.662660 -0.563369               -0.395980       1      2"
            ]
          },
          "metadata": {
            "tags": []
          },
          "execution_count": 14
        }
      ]
    },
    {
      "cell_type": "code",
      "metadata": {
        "id": "n937Tliq1Mg6",
        "colab": {
          "base_uri": "https://localhost:8080/",
          "height": 575
        },
        "outputId": "67c9f5d6-ef2c-4766-f68a-fe98fa633df1"
      },
      "source": [
        "fig = plt.figure(figsize=(21,10))\n",
        "\n",
        "ax = fig.add_subplot(111, projection='3d')\n",
        "\n",
        "ax.scatter(newdf[\"Age\"][newdf.label == 0], newdf[\"Annual Income (k$)\"][newdf.label == 0], df[\"Spending Score (1-100)\"][newdf.label == 0], c='blue', s=60)\n",
        "ax.scatter(newdf[\"Age\"][newdf.label == 1], newdf[\"Annual Income (k$)\"][newdf.label == 1], newdf[\"Spending Score (1-100)\"][newdf.label == 1], c='red', s=60)\n",
        "ax.scatter(newdf[\"Age\"][newdf.label == 2], newdf[\"Annual Income (k$)\"][newdf.label == 2], df[\"Spending Score (1-100)\"][newdf.label == 2], c='green', s=60)\n",
        "ax.scatter(newdf[\"Age\"][newdf.label == 3], newdf[\"Annual Income (k$)\"][newdf.label == 3], newdf[\"Spending Score (1-100)\"][newdf.label == 3], c='orange', s=60)\n",
        "\n",
        "ax.view_init(20, 185)\n",
        "plt.show()"
      ],
      "execution_count": 15,
      "outputs": [
        {
          "output_type": "display_data",
          "data": {
            "image/png": "[encoded data removed]",
            "text/plain": [
              "<Figure size 1512x720 with 1 Axes>"
            ]
          },
          "metadata": {
            "tags": [],
            "needs_background": "light"
          }
        }
      ]
    },
    {
      "cell_type": "code",
      "metadata": {
        "id": "j3KBiFgd1Mg7",
        "colab": {
          "base_uri": "https://localhost:8080/",
          "height": 279
        },
        "outputId": "20817707-637b-4626-f623-26aa38ed9763"
      },
      "source": [
        "pca = PCA(n_components=4)\n",
        "\n",
        "principalComponents = pca.fit_transform(newdf)\n",
        "\n",
        "features = range(pca.n_components_)\n",
        "\n",
        "plt.bar(features, pca.explained_variance_ratio_, color='black')\n",
        "\n",
        "plt.xlabel('PCA features')\n",
        "\n",
        "plt.ylabel('variance %')\n",
        "\n",
        "plt.xticks(features)\n",
        "\n",
        "PCA_components = pd.DataFrame(principalComponents)"
      ],
      "execution_count": 16,
      "outputs": [
        {
          "output_type": "display_data",
          "data": {
            "image/png": "[encoded data removed]",
            "text/plain": [
              "<Figure size 432x288 with 1 Axes>"
            ]
          },
          "metadata": {
            "tags": [],
            "needs_background": "light"
          }
        }
      ]
    },
    {
      "cell_type": "code",
      "metadata": {
        "id": "5fO6Rx2s1Mg8",
        "colab": {
          "base_uri": "https://localhost:8080/",
          "height": 279
        },
        "outputId": "eff6a8e6-35ee-4c52-ee5a-0f69200a1b96"
      },
      "source": [
        "ks = range(1, 10)\n",
        "inertias = []\n",
        "\n",
        "for k in ks:\n",
        "    model = KMeans(n_clusters=k)\n",
        "    model.fit(PCA_components.iloc[:,:2])\n",
        "    inertias.append(model.inertia_)\n",
        "\n",
        "plt.plot(ks, inertias, '-o', color='black')\n",
        "plt.xlabel('number of clusters, k')\n",
        "plt.ylabel('inertia')\n",
        "plt.xticks(ks)\n",
        "plt.show()"
      ],
      "execution_count": 17,
      "outputs": [
        {
          "output_type": "display_data",
          "data": {
            "image/png": "[encoded data removed]",
            "text/plain": [
              "<Figure size 432x288 with 1 Axes>"
            ]
          },
          "metadata": {
            "tags": [],
            "needs_background": "light"
          }
        }
      ]
    },
    {
      "cell_type": "code",
      "metadata": {
        "id": "rAXTSUFI1Mg9",
        "colab": {
          "base_uri": "https://localhost:8080/"
        },
        "outputId": "54786919-3403-4e55-e5bf-890ed86418a1"
      },
      "source": [
        "model = KMeans(n_clusters=4)\n",
        "model.fit(PCA_components.iloc[:,:2])\n",
        "\n",
        "print(silhouette_score(PCA_components.iloc[:,:2], model.labels_, metric='euclidean')) "
      ],
      "execution_count": 18,
      "outputs": [
        {
          "output_type": "stream",
          "text": [
            "0.4810375663798591\n"
          ],
          "name": "stdout"
        }
      ]
    },
    {
      "cell_type": "code",
      "metadata": {
        "id": "aaTEFw3U1Mg-"
      },
      "source": [
        "model = KMeans(n_clusters=4)\n",
        "\n",
        "clusters = model.fit_predict(PCA_components.iloc[:,:2])\n",
        "newdf[\"label\"] = clusters"
      ],
      "execution_count": null,
      "outputs": []
    },
    {
      "cell_type": "code",
      "metadata": {
        "id": "x5QjG5901Mg_",
        "colab": {
          "base_uri": "https://localhost:8080/",
          "height": 575
        },
        "outputId": "7ede5b59-bca6-4228-a3dc-daaeaa8413cb"
      },
      "source": [
        "fig = plt.figure(figsize=(21,10))\n",
        "\n",
        "ax = fig.add_subplot(111, projection='3d')\n",
        "\n",
        "ax.scatter(newdf[\"Age\"][newdf.label == 0], newdf[\"Annual Income (k$)\"][newdf.label == 0], newdf[\"Spending Score (1-100)\"][newdf.label == 0], c='blue', s=60)\n",
        "ax.scatter(newdf[\"Age\"][newdf.label == 1], newdf[\"Annual Income (k$)\"][newdf.label == 1], newdf[\"Spending Score (1-100)\"][newdf.label == 1], c='red', s=60)\n",
        "ax.scatter(newdf[\"Age\"][newdf.label == 2], newdf[\"Annual Income (k$)\"][newdf.label == 2], newdf[\"Spending Score (1-100)\"][newdf.label == 2], c='green', s=60)\n",
        "ax.scatter(newdf[\"Age\"][newdf.label == 3], newdf[\"Annual Income (k$)\"][newdf.label == 3], newdf[\"Spending Score (1-100)\"][newdf.label == 3], c='orange', s=60)\n",
        "\n",
        "ax.view_init(20, 185)\n",
        "plt.show()"
      ],
      "execution_count": 19,
      "outputs": [
        {
          "output_type": "display_data",
          "data": {
            "image/png": "[encoded data removed]",
            "text/plain": [
              "<Figure size 1512x720 with 1 Axes>"
            ]
          },
          "metadata": {
            "tags": [],
            "needs_background": "light"
          }
        }
      ]
    },
    {
      "cell_type": "code",
      "metadata": {
        "id": "aquusrcb1MhC",
        "colab": {
          "base_uri": "https://localhost:8080/",
          "height": 204
        },
        "outputId": "47b23188-d824-41f0-bcc2-9b515072d7c2"
      },
      "source": [
        "df = pd.read_csv('https://github.com/fozouni/data-science-exercises/raw/main/Mall_Customers.csv')\n",
        "df = df.drop(['CustomerID'],axis=1)\n",
        "\n",
        "pred = model.predict(PCA_components.iloc[:,:2])\n",
        "frame = pd.DataFrame(df)\n",
        "frame['cluster'] = pred\n",
        "frame.head()"
      ],
      "execution_count": 20,
      "outputs": [
        {
          "output_type": "execute_result",
          "data": {
            "text/html": [
              "<div>\n",
              "<style scoped>\n",
              "    .dataframe tbody tr th:only-of-type {\n",
              "        vertical-align: middle;\n",
              "    }\n",
              "\n",
              "    .dataframe tbody tr th {\n",
              "        vertical-align: top;\n",
              "    }\n",
              "\n",
              "    .dataframe thead th {\n",
              "        text-align: right;\n",
              "    }\n",
              "</style>\n",
              "<table border=\"1\" class=\"dataframe\">\n",
              "  <thead>\n",
              "    <tr style=\"text-align: right;\">\n",
              "      <th></th>\n",
              "      <th>Gender</th>\n",
              "      <th>Age</th>\n",
              "      <th>Annual Income (k$)</th>\n",
              "      <th>Spending Score (1-100)</th>\n",
              "      <th>cluster</th>\n",
              "    </tr>\n",
              "  </thead>\n",
              "  <tbody>\n",
              "    <tr>\n",
              "      <th>0</th>\n",
              "      <td>Male</td>\n",
              "      <td>19</td>\n",
              "      <td>15</td>\n",
              "      <td>39</td>\n",
              "      <td>2</td>\n",
              "    </tr>\n",
              "    <tr>\n",
              "      <th>1</th>\n",
              "      <td>Male</td>\n",
              "      <td>21</td>\n",
              "      <td>15</td>\n",
              "      <td>81</td>\n",
              "      <td>2</td>\n",
              "    </tr>\n",
              "    <tr>\n",
              "      <th>2</th>\n",
              "      <td>Female</td>\n",
              "      <td>20</td>\n",
              "      <td>16</td>\n",
              "      <td>6</td>\n",
              "      <td>2</td>\n",
              "    </tr>\n",
              "    <tr>\n",
              "      <th>3</th>\n",
              "      <td>Female</td>\n",
              "      <td>23</td>\n",
              "      <td>16</td>\n",
              "      <td>77</td>\n",
              "      <td>2</td>\n",
              "    </tr>\n",
              "    <tr>\n",
              "      <th>4</th>\n",
              "      <td>Female</td>\n",
              "      <td>31</td>\n",
              "      <td>17</td>\n",
              "      <td>40</td>\n",
              "      <td>2</td>\n",
              "    </tr>\n",
              "  </tbody>\n",
              "</table>\n",
              "</div>"
            ],
            "text/plain": [
              "   Gender  Age  Annual Income (k$)  Spending Score (1-100)  cluster\n",
              "0    Male   19                  15                      39        2\n",
              "1    Male   21                  15                      81        2\n",
              "2  Female   20                  16                       6        2\n",
              "3  Female   23                  16                      77        2\n",
              "4  Female   31                  17                      40        2"
            ]
          },
          "metadata": {
            "tags": []
          },
          "execution_count": 20
        }
      ]
    },
    {
      "cell_type": "code",
      "metadata": {
        "id": "DrnKXuUs1MhD",
        "colab": {
          "base_uri": "https://localhost:8080/",
          "height": 173
        },
        "outputId": "2b201083-166e-4fd7-ffe4-01b2b73d29df"
      },
      "source": [
        "avg_df = df.groupby(['cluster'], as_index=False).mean()\n",
        "avg_df.head()"
      ],
      "execution_count": 21,
      "outputs": [
        {
          "output_type": "execute_result",
          "data": {
            "text/html": [
              "<div>\n",
              "<style scoped>\n",
              "    .dataframe tbody tr th:only-of-type {\n",
              "        vertical-align: middle;\n",
              "    }\n",
              "\n",
              "    .dataframe tbody tr th {\n",
              "        vertical-align: top;\n",
              "    }\n",
              "\n",
              "    .dataframe thead th {\n",
              "        text-align: right;\n",
              "    }\n",
              "</style>\n",
              "<table border=\"1\" class=\"dataframe\">\n",
              "  <thead>\n",
              "    <tr style=\"text-align: right;\">\n",
              "      <th></th>\n",
              "      <th>cluster</th>\n",
              "      <th>Age</th>\n",
              "      <th>Annual Income (k$)</th>\n",
              "      <th>Spending Score (1-100)</th>\n",
              "    </tr>\n",
              "  </thead>\n",
              "  <tbody>\n",
              "    <tr>\n",
              "      <th>0</th>\n",
              "      <td>0</td>\n",
              "      <td>51.545455</td>\n",
              "      <td>56.272727</td>\n",
              "      <td>48.781818</td>\n",
              "    </tr>\n",
              "    <tr>\n",
              "      <th>1</th>\n",
              "      <td>1</td>\n",
              "      <td>44.250000</td>\n",
              "      <td>68.692308</td>\n",
              "      <td>17.288462</td>\n",
              "    </tr>\n",
              "    <tr>\n",
              "      <th>2</th>\n",
              "      <td>2</td>\n",
              "      <td>25.166667</td>\n",
              "      <td>38.333333</td>\n",
              "      <td>60.277778</td>\n",
              "    </tr>\n",
              "    <tr>\n",
              "      <th>3</th>\n",
              "      <td>3</td>\n",
              "      <td>32.692308</td>\n",
              "      <td>86.538462</td>\n",
              "      <td>82.128205</td>\n",
              "    </tr>\n",
              "  </tbody>\n",
              "</table>\n",
              "</div>"
            ],
            "text/plain": [
              "   cluster        Age  Annual Income (k$)  Spending Score (1-100)\n",
              "0        0  51.545455           56.272727               48.781818\n",
              "1        1  44.250000           68.692308               17.288462\n",
              "2        2  25.166667           38.333333               60.277778\n",
              "3        3  32.692308           86.538462               82.128205"
            ]
          },
          "metadata": {
            "tags": []
          },
          "execution_count": 21
        }
      ]
    },
    {
      "cell_type": "code",
      "metadata": {
        "id": "XwCSj3z91MhE",
        "colab": {
          "base_uri": "https://localhost:8080/",
          "height": 296
        },
        "outputId": "48b459a5-fb76-4bf0-b0c6-727647ca8ead"
      },
      "source": [
        "sns.barplot(x='cluster',y='Age',data=avg_df)"
      ],
      "execution_count": 22,
      "outputs": [
        {
          "output_type": "execute_result",
          "data": {
            "text/plain": [
              "<matplotlib.axes._subplots.AxesSubplot at 0x7fb7605bf050>"
            ]
          },
          "metadata": {
            "tags": []
          },
          "execution_count": 22
        },
        {
          "output_type": "display_data",
          "data": {
            "image/png": "[encoded data removed]",
            "text/plain": [
              "<Figure size 432x288 with 1 Axes>"
            ]
          },
          "metadata": {
            "tags": [],
            "needs_background": "light"
          }
        }
      ]
    },
    {
      "cell_type": "code",
      "metadata": {
        "id": "2QY6O-EH1MhG",
        "colab": {
          "base_uri": "https://localhost:8080/",
          "height": 296
        },
        "outputId": "c9ad3766-2a47-4ec0-f2bc-4562e3286a89"
      },
      "source": [
        "sns.barplot(x='cluster',y='Spending Score (1-100)',data=avg_df)"
      ],
      "execution_count": 23,
      "outputs": [
        {
          "output_type": "execute_result",
          "data": {
            "text/plain": [
              "<matplotlib.axes._subplots.AxesSubplot at 0x7fb753321110>"
            ]
          },
          "metadata": {
            "tags": []
          },
          "execution_count": 23
        },
        {
          "output_type": "display_data",
          "data": {
            "image/png": "[encoded data removed]",
            "text/plain": [
              "<Figure size 432x288 with 1 Axes>"
            ]
          },
          "metadata": {
            "tags": [],
            "needs_background": "light"
          }
        }
      ]
    },
    {
      "cell_type": "code",
      "metadata": {
        "id": "fo483O9i1MhH",
        "colab": {
          "base_uri": "https://localhost:8080/",
          "height": 296
        },
        "outputId": "71c22cc8-f18d-4891-fb1f-2231238ee507"
      },
      "source": [
        "sns.barplot(x='cluster',y='Annual Income (k$)',data=avg_df)"
      ],
      "execution_count": 24,
      "outputs": [
        {
          "output_type": "execute_result",
          "data": {
            "text/plain": [
              "<matplotlib.axes._subplots.AxesSubplot at 0x7fb75326bf10>"
            ]
          },
          "metadata": {
            "tags": []
          },
          "execution_count": 24
        },
        {
          "output_type": "display_data",
          "data": {
            "image/png": "[encoded data removed]",
            "text/plain": [
              "<Figure size 432x288 with 1 Axes>"
            ]
          },
          "metadata": {
            "tags": [],
            "needs_background": "light"
          }
        }
      ]
    },
    {
      "cell_type": "code",
      "metadata": {
        "id": "xd6QTTFD1MhI",
        "colab": {
          "base_uri": "https://localhost:8080/",
          "height": 235
        },
        "outputId": "255f1140-a867-45c8-c905-3efb97ab2218"
      },
      "source": [
        "df2 = pd.DataFrame(df.groupby(['cluster','Gender'])['Gender'].count())\n",
        "df2.head()"
      ],
      "execution_count": 25,
      "outputs": [
        {
          "output_type": "execute_result",
          "data": {
            "text/html": [
              "<div>\n",
              "<style scoped>\n",
              "    .dataframe tbody tr th:only-of-type {\n",
              "        vertical-align: middle;\n",
              "    }\n",
              "\n",
              "    .dataframe tbody tr th {\n",
              "        vertical-align: top;\n",
              "    }\n",
              "\n",
              "    .dataframe thead th {\n",
              "        text-align: right;\n",
              "    }\n",
              "</style>\n",
              "<table border=\"1\" class=\"dataframe\">\n",
              "  <thead>\n",
              "    <tr style=\"text-align: right;\">\n",
              "      <th></th>\n",
              "      <th></th>\n",
              "      <th>Gender</th>\n",
              "    </tr>\n",
              "    <tr>\n",
              "      <th>cluster</th>\n",
              "      <th>Gender</th>\n",
              "      <th></th>\n",
              "    </tr>\n",
              "  </thead>\n",
              "  <tbody>\n",
              "    <tr>\n",
              "      <th rowspan=\"2\" valign=\"top\">0</th>\n",
              "      <th>Female</th>\n",
              "      <td>32</td>\n",
              "    </tr>\n",
              "    <tr>\n",
              "      <th>Male</th>\n",
              "      <td>23</td>\n",
              "    </tr>\n",
              "    <tr>\n",
              "      <th rowspan=\"2\" valign=\"top\">1</th>\n",
              "      <th>Female</th>\n",
              "      <td>26</td>\n",
              "    </tr>\n",
              "    <tr>\n",
              "      <th>Male</th>\n",
              "      <td>26</td>\n",
              "    </tr>\n",
              "    <tr>\n",
              "      <th>2</th>\n",
              "      <th>Female</th>\n",
              "      <td>33</td>\n",
              "    </tr>\n",
              "  </tbody>\n",
              "</table>\n",
              "</div>"
            ],
            "text/plain": [
              "                Gender\n",
              "cluster Gender        \n",
              "0       Female      32\n",
              "        Male        23\n",
              "1       Female      26\n",
              "        Male        26\n",
              "2       Female      33"
            ]
          },
          "metadata": {
            "tags": []
          },
          "execution_count": 25
        }
      ]
    },
    {
      "cell_type": "markdown",
      "metadata": {
        "id": "lQ9bdORY1MhJ"
      },
      "source": [
        "## Cluster 0: The frugal spender\n",
        "This persona comprises of middle aged individuals who are very careful with money.\n",
        "\n",
        "Despite having the highest average income compared to individuals in all other clusters, they spend the least.\n",
        "\n",
        "This might be because they have financial responsibilities - like saving up for their kid's higher education.\n",
        "\n",
        "Recommendation: Promos, coupons, and discount codes will attract individuals in this segment due to their tendency to spend less.\n",
        "\n",
        "## Cluster 1: Almost retired\n",
        "This segment comprises of an older group of people.\n",
        "\n",
        "They earn less and spend less, and are probably saving up for retirement.\n",
        "\n",
        "Recommendation: Marketing to these individuals can be done through Facebook, which appeals to an older demographic. Promote healthcare related products to people in this segment.\n",
        "\n",
        "## Cluster 2: The careless buyer\n",
        "This segment is made up of a younger age group.\n",
        "\n",
        "Individuals in this segment are most likely first jobbers. They make the least amount of money compared to all other segments.\n",
        "\n",
        "However, they are very high spenders.\n",
        "\n",
        "These are enthusiastic young individuals who enjoy living a good lifestyle, and tend to spend above their means.\n",
        "\n",
        "Recommendation: Since these are young individuals who spend a lot, providing them with travel coupons or hotel discounts might be a good idea. Providing them with discounts off top clothing and makeup brands would also work well for this segment.\n",
        "\n",
        "## Cluster 3: Highly affluent individuals\n",
        "This segment is made up of middle-aged individuals.\n",
        "\n",
        "These are individuals who have worked hard to build up a significant amount of wealth.\n",
        "\n",
        "They also spend large amounts of money to live a good lifestyle.\n",
        "\n",
        "These individuals have likely just started a family, and are leading baby or family-focused lifestyles. It is a good idea to promote baby or child related products to these individuals.\n",
        "\n",
        "Recommendation: Due to their large spending capacity and their demographic, these individuals are likely to be looking for properties to buy or invest in. They are also more likely than all other segments to take out housing loans and make serious financial commitments.\n",
        "\n"
      ]
    },
    {
      "cell_type": "markdown",
      "metadata": {
        "id": "0KBQTDTd1MhK"
      },
      "source": [
        "## This project is originated from the following post:\n",
        "\n",
        "\n",
        "\n",
        "https://www.natasshaselvaraj.com/customer-segmentation-with-python/"
      ]
    },
    {
      "cell_type": "code",
      "metadata": {
        "id": "9p6lLwcaPnef"
      },
      "source": [
        ""
      ],
      "execution_count": null,
      "outputs": []
    }
  ]
}